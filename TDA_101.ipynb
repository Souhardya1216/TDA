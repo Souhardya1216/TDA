{
 "cells": [
  {
   "cell_type": "code",
   "execution_count": 1,
   "id": "3c0e8824-1392-4e89-8bca-55113aa8f573",
   "metadata": {},
   "outputs": [
    {
     "name": "stdout",
     "output_type": "stream",
     "text": [
      "Requirement already satisfied: kmapper in c:\\users\\babua\\anaconda3\\envs\\fraud_2\\lib\\site-packages (2.1.0)\n",
      "Requirement already satisfied: numpy in c:\\users\\babua\\anaconda3\\envs\\fraud_2\\lib\\site-packages (2.0.2)\n",
      "Requirement already satisfied: matplotlib in c:\\users\\babua\\anaconda3\\envs\\fraud_2\\lib\\site-packages (3.9.2)\n",
      "Requirement already satisfied: scikit-learn in c:\\users\\babua\\anaconda3\\envs\\fraud_2\\lib\\site-packages (1.5.2)\n",
      "Requirement already satisfied: scipy in c:\\users\\babua\\anaconda3\\envs\\fraud_2\\lib\\site-packages (from kmapper) (1.13.1)\n",
      "Requirement already satisfied: Jinja2 in c:\\users\\babua\\anaconda3\\envs\\fraud_2\\lib\\site-packages (from kmapper) (3.1.4)\n",
      "Requirement already satisfied: contourpy>=1.0.1 in c:\\users\\babua\\anaconda3\\envs\\fraud_2\\lib\\site-packages (from matplotlib) (1.3.0)\n",
      "Requirement already satisfied: cycler>=0.10 in c:\\users\\babua\\anaconda3\\envs\\fraud_2\\lib\\site-packages (from matplotlib) (0.12.1)\n",
      "Requirement already satisfied: fonttools>=4.22.0 in c:\\users\\babua\\anaconda3\\envs\\fraud_2\\lib\\site-packages (from matplotlib) (4.54.1)\n",
      "Requirement already satisfied: kiwisolver>=1.3.1 in c:\\users\\babua\\anaconda3\\envs\\fraud_2\\lib\\site-packages (from matplotlib) (1.4.7)\n",
      "Requirement already satisfied: packaging>=20.0 in c:\\users\\babua\\anaconda3\\envs\\fraud_2\\lib\\site-packages (from matplotlib) (24.2)\n",
      "Requirement already satisfied: pillow>=8 in c:\\users\\babua\\anaconda3\\envs\\fraud_2\\lib\\site-packages (from matplotlib) (11.0.0)\n",
      "Requirement already satisfied: pyparsing>=2.3.1 in c:\\users\\babua\\anaconda3\\envs\\fraud_2\\lib\\site-packages (from matplotlib) (3.2.0)\n",
      "Requirement already satisfied: python-dateutil>=2.7 in c:\\users\\babua\\anaconda3\\envs\\fraud_2\\lib\\site-packages (from matplotlib) (2.9.0.post0)\n",
      "Requirement already satisfied: importlib-resources>=3.2.0 in c:\\users\\babua\\anaconda3\\envs\\fraud_2\\lib\\site-packages (from matplotlib) (6.4.5)\n",
      "Requirement already satisfied: joblib>=1.2.0 in c:\\users\\babua\\anaconda3\\envs\\fraud_2\\lib\\site-packages (from scikit-learn) (1.4.2)\n",
      "Requirement already satisfied: threadpoolctl>=3.1.0 in c:\\users\\babua\\anaconda3\\envs\\fraud_2\\lib\\site-packages (from scikit-learn) (3.5.0)\n",
      "Requirement already satisfied: zipp>=3.1.0 in c:\\users\\babua\\anaconda3\\envs\\fraud_2\\lib\\site-packages (from importlib-resources>=3.2.0->matplotlib) (3.20.2)\n",
      "Requirement already satisfied: six>=1.5 in c:\\users\\babua\\anaconda3\\envs\\fraud_2\\lib\\site-packages (from python-dateutil>=2.7->matplotlib) (1.16.0)\n",
      "Requirement already satisfied: MarkupSafe>=2.0 in c:\\users\\babua\\anaconda3\\envs\\fraud_2\\lib\\site-packages (from Jinja2->kmapper) (3.0.2)\n"
     ]
    }
   ],
   "source": [
    "!pip3 install kmapper numpy matplotlib scikit-learn"
   ]
  },
  {
   "cell_type": "code",
   "execution_count": 2,
   "id": "4b1baa13-5d83-4cfc-8462-c2a7dbf807ca",
   "metadata": {},
   "outputs": [],
   "source": [
    "import numpy as np\n",
    "import matplotlib.pyplot as plt\n",
    "from sklearn.datasets import make_blobs\n",
    "\n",
    "# Generate synthetic data\n",
    "n_samples = 300\n",
    "n_outliers = 10\n",
    "X, _ = make_blobs(n_samples=n_samples, centers=2, cluster_std=0.60, random_state=0)"
   ]
  },
  {
   "cell_type": "code",
   "execution_count": 3,
   "id": "dc238543-8368-4f9a-93eb-b23802bf42d2",
   "metadata": {},
   "outputs": [],
   "source": [
    "# Add anomalies\n",
    "np.random.seed(42)\n",
    "outliers = np.random.uniform(low=-6, high=6, size=(n_outliers, 2))\n",
    "X = np.vstack((X, outliers))"
   ]
  },
  {
   "cell_type": "code",
   "execution_count": 4,
   "id": "4386af70-80dc-40ad-b1a8-6c9de5ea7e7c",
   "metadata": {},
   "outputs": [
    {
     "data": {
      "image/png": "[encoded data removed]",
      "text/plain": [
       "<Figure size 640x480 with 1 Axes>"
      ]
     },
     "metadata": {},
     "output_type": "display_data"
    }
   ],
   "source": [
    "# Visualize the data\n",
    "plt.scatter(X[:, 0], X[:, 1], color='blue', s=10)\n",
    "plt.title(\"Synthetic Data with Anomalies\")\n",
    "plt.xlabel(\"Feature 1\")\n",
    "plt.ylabel(\"Feature 2\")\n",
    "plt.show()"
   ]
  },
  {
   "cell_type": "code",
   "execution_count": 5,
   "id": "bfbd8006-d5a6-467b-b773-9f504778e909",
   "metadata": {},
   "outputs": [],
   "source": [
    "import kmapper as km\n",
    "from sklearn.cluster import DBSCAN\n",
    "\n",
    "# Initialize the KeplerMapper object\n",
    "mapper = km.KeplerMapper()\n"
   ]
  },
  {
   "cell_type": "code",
   "execution_count": 6,
   "id": "3cf610e8-92d1-422b-ae96-cd3a9e3251d1",
   "metadata": {},
   "outputs": [],
   "source": [
    "# Fit and transform the data using a projection (e.g., PCA)\n",
    "projected_data = mapper.fit_transform(X)"
   ]
  },
  {
   "cell_type": "code",
   "execution_count": 7,
   "id": "3fa02fbe-a076-490a-a514-c0a4849fe4cc",
   "metadata": {},
   "outputs": [],
   "source": [
    "# Create a cover for the Mapper algorithm\n",
    "cover = km.Cover(n_cubes=10, perc_overlap=0.5)"
   ]
  },
  {
   "cell_type": "code",
   "execution_count": 8,
   "id": "3d76f48c-70b8-4bdc-9dbe-8985498f32fa",
   "metadata": {},
   "outputs": [],
   "source": [
    "# Map the projected data to create a graph using DBSCAN for clustering\n",
    "graph = mapper.map(projected_data,\n",
    "                    X=X,\n",
    "                    clusterer=DBSCAN(eps=0.5, min_samples=5),\n",
    "                    cover=cover)"
   ]
  },
  {
   "cell_type": "code",
   "execution_count": 13,
   "id": "c0014b91-86ed-4333-97b5-521a50936c2d",
   "metadata": {},
   "outputs": [],
   "source": [
    "# np.c_[np.array([0] * n_samples),np.array([1] * n_outliers)]"
   ]
  },
  {
   "cell_type": "code",
   "execution_count": 19,
   "id": "7463dc9f-dfe2-4df6-a643-f0159647baef",
   "metadata": {},
   "outputs": [
    {
     "data": {
      "text/plain": [
       "dict_keys(['nodes', 'links', 'simplices', 'meta_data', 'meta_nodes'])"
      ]
     },
     "execution_count": 19,
     "metadata": {},
     "output_type": "execute_result"
    }
   ],
   "source": [
    "graph.keys()"
   ]
  },
  {
   "cell_type": "code",
   "execution_count": 24,
   "id": "53c6fa18-d84f-4ba9-83de-c7a43b1c54ba",
   "metadata": {},
   "outputs": [
    {
     "data": {
      "text/plain": [
       "[18,\n",
       " 24,\n",
       " 36,\n",
       " 50,\n",
       " 53,\n",
       " 57,\n",
       " 67,\n",
       " 74,\n",
       " 92,\n",
       " 99,\n",
       " 105,\n",
       " 117,\n",
       " 139,\n",
       " 141,\n",
       " 148,\n",
       " 150,\n",
       " 158,\n",
       " 168,\n",
       " 179,\n",
       " 190,\n",
       " 229,\n",
       " 249,\n",
       " 253,\n",
       " 280]"
      ]
     },
     "execution_count": 24,
     "metadata": {},
     "output_type": "execute_result"
    }
   ],
   "source": [
    "graph['nodes']['cube4_cluster0']"
   ]
  },
  {
   "cell_type": "code",
   "execution_count": 22,
   "id": "07b04b62-4912-41a8-8f26-9fcaba49e9ef",
   "metadata": {},
   "outputs": [
    {
     "data": {
      "text/plain": [
       "defaultdict(list,\n",
       "            {'cube4_cluster0': ['cube5_cluster0'],\n",
       "             'cube5_cluster0': ['cube6_cluster0'],\n",
       "             'cube6_cluster0': ['cube7_cluster1'],\n",
       "             'cube6_cluster1': ['cube7_cluster0'],\n",
       "             'cube7_cluster0': ['cube8_cluster0']})"
      ]
     },
     "execution_count": 22,
     "metadata": {},
     "output_type": "execute_result"
    }
   ],
   "source": [
    "graph['links']"
   ]
  },
  {
   "cell_type": "code",
   "execution_count": 17,
   "id": "12d63252-b23e-406e-94f7-97f83c5405e0",
   "metadata": {},
   "outputs": [
    {
     "data": {
      "text/html": [
       "\n",
       "        <iframe\n",
       "            width=\"100%\"\n",
       "            height=\"700\"\n",
       "            src=\"mapper_output.html\"\n",
       "            frameborder=\"0\"\n",
       "            allowfullscreen\n",
       "            \n",
       "        ></iframe>\n",
       "        "
      ],
      "text/plain": [
       "<IPython.lib.display.IFrame at 0x1c90414f340>"
      ]
     },
     "execution_count": 17,
     "metadata": {},
     "output_type": "execute_result"
    }
   ],
   "source": [
    "mapper.visualize(graph,\n",
    "                 path_html=\"mapper_output.html\",\n",
    "                 title=\"Mapper Output with Anomalies\",\n",
    "                 )\n",
    "from IPython.display import IFrame\n",
    "IFrame('mapper_output.html', width='100%', height=700)"
   ]
  },
  {
   "cell_type": "code",
   "execution_count": 28,
   "id": "faba2c00-0698-4203-b833-700dee656e54",
   "metadata": {},
   "outputs": [],
   "source": [
    "import pandas as pd "
   ]
  },
  {
   "cell_type": "code",
   "execution_count": 29,
   "id": "d4a0026c-b87d-48eb-848e-60f502e8418a",
   "metadata": {},
   "outputs": [],
   "source": [
    "df=pd.DataFrame(X)"
   ]
  },
  {
   "cell_type": "code",
   "execution_count": 33,
   "id": "ec715636-6c2e-4bfc-8c80-8a59ee825e9d",
   "metadata": {},
   "outputs": [
    {
     "name": "stdout",
     "output_type": "stream",
     "text": [
      "            0         1   id                        new_column\n",
      "0    2.406157  4.870475    0                  [cube8_cluster0]\n",
      "1    2.580767  0.828599    1  [cube5_cluster0, cube6_cluster0]\n",
      "2    1.062696  5.176351    2  [cube7_cluster0, cube8_cluster0]\n",
      "3    2.548219  0.900839    3  [cube5_cluster0, cube6_cluster0]\n",
      "4    1.390161  5.084895    4  [cube7_cluster0, cube8_cluster0]\n",
      "..        ...       ...  ...                               ...\n",
      "305 -5.752986  5.638918  305                                []\n",
      "306  3.989312 -3.451931  306                                []\n",
      "307 -3.818100 -3.799146  307                                []\n",
      "308 -2.349093  0.297077  308                                []\n",
      "309 -0.816660 -2.505250  309                                []\n",
      "\n",
      "[310 rows x 4 columns]\n"
     ]
    }
   ],
   "source": [
    "reverse_mapping = {}\n",
    "for key, indices in graph['nodes'].items():\n",
    "    for index in indices:\n",
    "        if index not in reverse_mapping:\n",
    "            reverse_mapping[index] = []\n",
    "        reverse_mapping[index].append(key)\n",
    "df['id']=df.index\n",
    "# Add a new column to the DataFrame based on the reverse mapping\n",
    "df['new_column'] = df['id'].map(reverse_mapping).apply(lambda i: i if isinstance(i, list) else [])\n",
    "\n",
    "print(df)"
   ]
  },
  {
   "cell_type": "code",
   "execution_count": 34,
   "id": "f9718462-6bac-4794-9c7f-dcd9957e32e3",
   "metadata": {},
   "outputs": [
    {
     "data": {
      "text/html": [
       "<div>\n",
       "<style scoped>\n",
       "    .dataframe tbody tr th:only-of-type {\n",
       "        vertical-align: middle;\n",
       "    }\n",
       "\n",
       "    .dataframe tbody tr th {\n",
       "        vertical-align: top;\n",
       "    }\n",
       "\n",
       "    .dataframe thead th {\n",
       "        text-align: right;\n",
       "    }\n",
       "</style>\n",
       "<table border=\"1\" class=\"dataframe\">\n",
       "  <thead>\n",
       "    <tr style=\"text-align: right;\">\n",
       "      <th></th>\n",
       "      <th>0</th>\n",
       "      <th>1</th>\n",
       "      <th>id</th>\n",
       "      <th>new_column</th>\n",
       "    </tr>\n",
       "  </thead>\n",
       "  <tbody>\n",
       "    <tr>\n",
       "      <th>0</th>\n",
       "      <td>2.406157</td>\n",
       "      <td>4.870475</td>\n",
       "      <td>0</td>\n",
       "      <td>[cube8_cluster0]</td>\n",
       "    </tr>\n",
       "    <tr>\n",
       "      <th>1</th>\n",
       "      <td>2.580767</td>\n",
       "      <td>0.828599</td>\n",
       "      <td>1</td>\n",
       "      <td>[cube5_cluster0, cube6_cluster0]</td>\n",
       "    </tr>\n",
       "    <tr>\n",
       "      <th>2</th>\n",
       "      <td>1.062696</td>\n",
       "      <td>5.176351</td>\n",
       "      <td>2</td>\n",
       "      <td>[cube7_cluster0, cube8_cluster0]</td>\n",
       "    </tr>\n",
       "    <tr>\n",
       "      <th>3</th>\n",
       "      <td>2.548219</td>\n",
       "      <td>0.900839</td>\n",
       "      <td>3</td>\n",
       "      <td>[cube5_cluster0, cube6_cluster0]</td>\n",
       "    </tr>\n",
       "    <tr>\n",
       "      <th>4</th>\n",
       "      <td>1.390161</td>\n",
       "      <td>5.084895</td>\n",
       "      <td>4</td>\n",
       "      <td>[cube7_cluster0, cube8_cluster0]</td>\n",
       "    </tr>\n",
       "    <tr>\n",
       "      <th>...</th>\n",
       "      <td>...</td>\n",
       "      <td>...</td>\n",
       "      <td>...</td>\n",
       "      <td>...</td>\n",
       "    </tr>\n",
       "    <tr>\n",
       "      <th>305</th>\n",
       "      <td>-5.752986</td>\n",
       "      <td>5.638918</td>\n",
       "      <td>305</td>\n",
       "      <td>[]</td>\n",
       "    </tr>\n",
       "    <tr>\n",
       "      <th>306</th>\n",
       "      <td>3.989312</td>\n",
       "      <td>-3.451931</td>\n",
       "      <td>306</td>\n",
       "      <td>[]</td>\n",
       "    </tr>\n",
       "    <tr>\n",
       "      <th>307</th>\n",
       "      <td>-3.818100</td>\n",
       "      <td>-3.799146</td>\n",
       "      <td>307</td>\n",
       "      <td>[]</td>\n",
       "    </tr>\n",
       "    <tr>\n",
       "      <th>308</th>\n",
       "      <td>-2.349093</td>\n",
       "      <td>0.297077</td>\n",
       "      <td>308</td>\n",
       "      <td>[]</td>\n",
       "    </tr>\n",
       "    <tr>\n",
       "      <th>309</th>\n",
       "      <td>-0.816660</td>\n",
       "      <td>-2.505250</td>\n",
       "      <td>309</td>\n",
       "      <td>[]</td>\n",
       "    </tr>\n",
       "  </tbody>\n",
       "</table>\n",
       "<p>310 rows × 4 columns</p>\n",
       "</div>"
      ],
      "text/plain": [
       "            0         1   id                        new_column\n",
       "0    2.406157  4.870475    0                  [cube8_cluster0]\n",
       "1    2.580767  0.828599    1  [cube5_cluster0, cube6_cluster0]\n",
       "2    1.062696  5.176351    2  [cube7_cluster0, cube8_cluster0]\n",
       "3    2.548219  0.900839    3  [cube5_cluster0, cube6_cluster0]\n",
       "4    1.390161  5.084895    4  [cube7_cluster0, cube8_cluster0]\n",
       "..        ...       ...  ...                               ...\n",
       "305 -5.752986  5.638918  305                                []\n",
       "306  3.989312 -3.451931  306                                []\n",
       "307 -3.818100 -3.799146  307                                []\n",
       "308 -2.349093  0.297077  308                                []\n",
       "309 -0.816660 -2.505250  309                                []\n",
       "\n",
       "[310 rows x 4 columns]"
      ]
     },
     "execution_count": 34,
     "metadata": {},
     "output_type": "execute_result"
    }
   ],
   "source": [
    "df"
   ]
  },
  {
   "cell_type": "code",
   "execution_count": 35,
   "id": "a7419c23-1aad-4496-a42d-f5c31f8ecef2",
   "metadata": {},
   "outputs": [
    {
     "data": {
      "text/html": [
       "<div>\n",
       "<style scoped>\n",
       "    .dataframe tbody tr th:only-of-type {\n",
       "        vertical-align: middle;\n",
       "    }\n",
       "\n",
       "    .dataframe tbody tr th {\n",
       "        vertical-align: top;\n",
       "    }\n",
       "\n",
       "    .dataframe thead th {\n",
       "        text-align: right;\n",
       "    }\n",
       "</style>\n",
       "<table border=\"1\" class=\"dataframe\">\n",
       "  <thead>\n",
       "    <tr style=\"text-align: right;\">\n",
       "      <th></th>\n",
       "      <th>0</th>\n",
       "      <th>1</th>\n",
       "      <th>id</th>\n",
       "      <th>new_column</th>\n",
       "    </tr>\n",
       "  </thead>\n",
       "  <tbody>\n",
       "    <tr>\n",
       "      <th>290</th>\n",
       "      <td>0.224593</td>\n",
       "      <td>4.770282</td>\n",
       "      <td>290</td>\n",
       "      <td>[cube6_cluster1, cube7_cluster0]</td>\n",
       "    </tr>\n",
       "    <tr>\n",
       "      <th>291</th>\n",
       "      <td>1.437306</td>\n",
       "      <td>0.687698</td>\n",
       "      <td>291</td>\n",
       "      <td>[cube5_cluster0, cube6_cluster0]</td>\n",
       "    </tr>\n",
       "    <tr>\n",
       "      <th>292</th>\n",
       "      <td>2.696373</td>\n",
       "      <td>0.625632</td>\n",
       "      <td>292</td>\n",
       "      <td>[cube5_cluster0, cube6_cluster0]</td>\n",
       "    </tr>\n",
       "    <tr>\n",
       "      <th>293</th>\n",
       "      <td>0.935325</td>\n",
       "      <td>5.331793</td>\n",
       "      <td>293</td>\n",
       "      <td>[cube7_cluster0, cube8_cluster0]</td>\n",
       "    </tr>\n",
       "    <tr>\n",
       "      <th>294</th>\n",
       "      <td>2.715438</td>\n",
       "      <td>1.676477</td>\n",
       "      <td>294</td>\n",
       "      <td>[cube6_cluster0, cube7_cluster1]</td>\n",
       "    </tr>\n",
       "    <tr>\n",
       "      <th>295</th>\n",
       "      <td>2.614377</td>\n",
       "      <td>1.101643</td>\n",
       "      <td>295</td>\n",
       "      <td>[cube6_cluster0, cube7_cluster1]</td>\n",
       "    </tr>\n",
       "    <tr>\n",
       "      <th>296</th>\n",
       "      <td>0.584825</td>\n",
       "      <td>4.069215</td>\n",
       "      <td>296</td>\n",
       "      <td>[cube6_cluster1, cube7_cluster0]</td>\n",
       "    </tr>\n",
       "    <tr>\n",
       "      <th>297</th>\n",
       "      <td>1.187347</td>\n",
       "      <td>1.377842</td>\n",
       "      <td>297</td>\n",
       "      <td>[cube5_cluster0, cube6_cluster0]</td>\n",
       "    </tr>\n",
       "    <tr>\n",
       "      <th>298</th>\n",
       "      <td>1.623505</td>\n",
       "      <td>0.409868</td>\n",
       "      <td>298</td>\n",
       "      <td>[cube5_cluster0, cube6_cluster0]</td>\n",
       "    </tr>\n",
       "    <tr>\n",
       "      <th>299</th>\n",
       "      <td>1.288909</td>\n",
       "      <td>3.958315</td>\n",
       "      <td>299</td>\n",
       "      <td>[cube7_cluster0, cube8_cluster0]</td>\n",
       "    </tr>\n",
       "    <tr>\n",
       "      <th>300</th>\n",
       "      <td>-1.505519</td>\n",
       "      <td>5.408572</td>\n",
       "      <td>300</td>\n",
       "      <td>[]</td>\n",
       "    </tr>\n",
       "    <tr>\n",
       "      <th>301</th>\n",
       "      <td>2.783927</td>\n",
       "      <td>1.183902</td>\n",
       "      <td>301</td>\n",
       "      <td>[cube6_cluster0, cube7_cluster1]</td>\n",
       "    </tr>\n",
       "    <tr>\n",
       "      <th>302</th>\n",
       "      <td>-4.127776</td>\n",
       "      <td>-4.128066</td>\n",
       "      <td>302</td>\n",
       "      <td>[]</td>\n",
       "    </tr>\n",
       "    <tr>\n",
       "      <th>303</th>\n",
       "      <td>-5.302997</td>\n",
       "      <td>4.394114</td>\n",
       "      <td>303</td>\n",
       "      <td>[]</td>\n",
       "    </tr>\n",
       "    <tr>\n",
       "      <th>304</th>\n",
       "      <td>1.213380</td>\n",
       "      <td>2.496871</td>\n",
       "      <td>304</td>\n",
       "      <td>[]</td>\n",
       "    </tr>\n",
       "    <tr>\n",
       "      <th>305</th>\n",
       "      <td>-5.752986</td>\n",
       "      <td>5.638918</td>\n",
       "      <td>305</td>\n",
       "      <td>[]</td>\n",
       "    </tr>\n",
       "    <tr>\n",
       "      <th>306</th>\n",
       "      <td>3.989312</td>\n",
       "      <td>-3.451931</td>\n",
       "      <td>306</td>\n",
       "      <td>[]</td>\n",
       "    </tr>\n",
       "    <tr>\n",
       "      <th>307</th>\n",
       "      <td>-3.818100</td>\n",
       "      <td>-3.799146</td>\n",
       "      <td>307</td>\n",
       "      <td>[]</td>\n",
       "    </tr>\n",
       "    <tr>\n",
       "      <th>308</th>\n",
       "      <td>-2.349093</td>\n",
       "      <td>0.297077</td>\n",
       "      <td>308</td>\n",
       "      <td>[]</td>\n",
       "    </tr>\n",
       "    <tr>\n",
       "      <th>309</th>\n",
       "      <td>-0.816660</td>\n",
       "      <td>-2.505250</td>\n",
       "      <td>309</td>\n",
       "      <td>[]</td>\n",
       "    </tr>\n",
       "  </tbody>\n",
       "</table>\n",
       "</div>"
      ],
      "text/plain": [
       "            0         1   id                        new_column\n",
       "290  0.224593  4.770282  290  [cube6_cluster1, cube7_cluster0]\n",
       "291  1.437306  0.687698  291  [cube5_cluster0, cube6_cluster0]\n",
       "292  2.696373  0.625632  292  [cube5_cluster0, cube6_cluster0]\n",
       "293  0.935325  5.331793  293  [cube7_cluster0, cube8_cluster0]\n",
       "294  2.715438  1.676477  294  [cube6_cluster0, cube7_cluster1]\n",
       "295  2.614377  1.101643  295  [cube6_cluster0, cube7_cluster1]\n",
       "296  0.584825  4.069215  296  [cube6_cluster1, cube7_cluster0]\n",
       "297  1.187347  1.377842  297  [cube5_cluster0, cube6_cluster0]\n",
       "298  1.623505  0.409868  298  [cube5_cluster0, cube6_cluster0]\n",
       "299  1.288909  3.958315  299  [cube7_cluster0, cube8_cluster0]\n",
       "300 -1.505519  5.408572  300                                []\n",
       "301  2.783927  1.183902  301  [cube6_cluster0, cube7_cluster1]\n",
       "302 -4.127776 -4.128066  302                                []\n",
       "303 -5.302997  4.394114  303                                []\n",
       "304  1.213380  2.496871  304                                []\n",
       "305 -5.752986  5.638918  305                                []\n",
       "306  3.989312 -3.451931  306                                []\n",
       "307 -3.818100 -3.799146  307                                []\n",
       "308 -2.349093  0.297077  308                                []\n",
       "309 -0.816660 -2.505250  309                                []"
      ]
     },
     "execution_count": 35,
     "metadata": {},
     "output_type": "execute_result"
    }
   ],
   "source": [
    "df.tail(20)"
   ]
  },
  {
   "cell_type": "code",
   "execution_count": null,
   "id": "3319f6d7-089f-4162-ac6a-def60b7df9c2",
   "metadata": {},
   "outputs": [],
   "source": []
  }
 ],
 "metadata": {
  "kernelspec": {
   "display_name": "Python 3 (ipykernel)",
   "language": "python",
   "name": "python3"
  },
  "language_info": {
   "codemirror_mode": {
    "name": "ipython",
    "version": 3
   },
   "file_extension": ".py",
   "mimetype": "text/x-python",
   "name": "python",
   "nbconvert_exporter": "python",
   "pygments_lexer": "ipython3",
   "version": "3.9.20"
  }
 },
 "nbformat": 4,
 "nbformat_minor": 5
}
